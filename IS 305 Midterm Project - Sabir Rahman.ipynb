{
 "cells": [
  {
   "cell_type": "markdown",
   "id": "54141ca3",
   "metadata": {},
   "source": [
    "# The Gear Drop Project"
   ]
  },
  {
   "cell_type": "markdown",
   "id": "782c97b8",
   "metadata": {},
   "source": [
    "### The Goal"
   ]
  },
  {
   "cell_type": "markdown",
   "id": "242d479b",
   "metadata": {},
   "source": [
    "Hello everyone! As you know, our goal is to figure out a simple way to manage the drop system for our game. This means we not only have to manage the rarities of these drops, but what type of weapon drop it is as well. This is my suggestion on how we can easily handle this system."
   ]
  },
  {
   "cell_type": "markdown",
   "id": "5fbf8f0a",
   "metadata": {},
   "source": [
    "### What is enum?"
   ]
  },
  {
   "cell_type": "markdown",
   "id": "531341f6",
   "metadata": {},
   "source": [
    "Enum is a basic python module that is used as a way to create a set of data for us to use enumeration and other methods on to access that set of data, similar to lists/arrays. It provides easy organization and set up for variables and the value assigned to them, which is why I am showing you this today to help setup our drops."
   ]
  },
  {
   "cell_type": "markdown",
   "id": "9e25cedf",
   "metadata": {},
   "source": [
    "##### Here is an example of some starting code where we use enum for storing drop rarities and values associated to them"
   ]
  },
  {
   "cell_type": "markdown",
   "id": "e98f8846",
   "metadata": {},
   "source": [
    "In this example, we will have 7 rarities of gear assigned with the highest level the gear can go to as well. That way, when we use a random number generator later to roll instances of gear drops, we can check that number rolled and use it to drop the correct rarity. For example, 0-450 is a common piece, 451-600 is uncommon, 601-750 is rare, 751-875 is epic, 876-945 is legendary, 946-990 is exalted, and 991-999 is awakened. I also show another way to set up enum, this case being different types of weapon drops"
   ]
  },
  {
   "cell_type": "code",
   "execution_count": 1,
   "id": "887bf163",
   "metadata": {},
   "outputs": [],
   "source": [
    "from enum import Enum\n",
    "\n",
    "# One way to make an enumeration, using a class to easily organise and assign values that we would like\n",
    "class DropRarities(Enum):\n",
    "    Common = 450\n",
    "    Uncommon = 600\n",
    "    Rare = 750\n",
    "    Epic = 875\n",
    "    Legendary = 945\n",
    "    Exalted = 990\n",
    "    Awakened = 999\n",
    "\n",
    "# Another way to make an enumeration using a function, where the values are assigned automatically starting from 0\n",
    "Weapons = Enum('Weapons', ['Pistol', 'Shotgun', 'SMG', 'Rifle', 'Sniper', 'Grenade Launcher', 'Rocket Launcher'])"
   ]
  },
  {
   "cell_type": "markdown",
   "id": "7da4b194",
   "metadata": {},
   "source": [
    "I personally prefer the first way, as it looks more organized and is easier to setup, so lets rewrite our gear enum. In cases where we would have very long enums, we would be able to use the auto() function instead of assigning values so that the code itself will increment the values we have assigned to our gear instead of us having to worry about miscounting."
   ]
  },
  {
   "cell_type": "code",
   "execution_count": 2,
   "id": "c7cd53ec",
   "metadata": {},
   "outputs": [],
   "source": [
    "from enum import auto\n",
    "\n",
    "class Gear(Enum):\n",
    "    Pistol = auto()\n",
    "    Shotgun = auto()\n",
    "    SMG = auto()\n",
    "    Rifle = auto()\n",
    "    Sniper = auto()\n",
    "    Grenade_Launcher = auto()\n",
    "    Rocket_Launcher = auto()"
   ]
  },
  {
   "cell_type": "markdown",
   "id": "aa96ba1a",
   "metadata": {},
   "source": [
    "It is always possible that you would worry about having duplicate values assigned to variables when we do have a smaller enum, such as our DropRarities if we were to add a new rarity like exotic. However, using unique, we would be able to catch these mistakes very quickly."
   ]
  },
  {
   "cell_type": "code",
   "execution_count": 3,
   "id": "0a66a41a",
   "metadata": {},
   "outputs": [
    {
     "ename": "ValueError",
     "evalue": "duplicate values found in <enum 'UpdatedDropRarities'>: Exotic -> Legendary",
     "output_type": "error",
     "traceback": [
      "\u001b[0;31m---------------------------------------------------------------------------\u001b[0m",
      "\u001b[0;31mValueError\u001b[0m                                Traceback (most recent call last)",
      "Cell \u001b[0;32mIn[3], line 3\u001b[0m\n\u001b[1;32m      1\u001b[0m \u001b[38;5;28;01mfrom\u001b[39;00m \u001b[38;5;21;01menum\u001b[39;00m \u001b[38;5;28;01mimport\u001b[39;00m unique\n\u001b[0;32m----> 3\u001b[0m \u001b[38;5;129m@unique\u001b[39m\n\u001b[1;32m      4\u001b[0m \u001b[38;5;28;01mclass\u001b[39;00m \u001b[38;5;21;01mUpdatedDropRarities\u001b[39;00m(Enum):\n\u001b[1;32m      5\u001b[0m     Common \u001b[38;5;241m=\u001b[39m \u001b[38;5;241m450\u001b[39m\n\u001b[1;32m      6\u001b[0m     Uncommon \u001b[38;5;241m=\u001b[39m \u001b[38;5;241m600\u001b[39m\n",
      "File \u001b[0;32m~/anaconda3/lib/python3.11/enum.py:1575\u001b[0m, in \u001b[0;36munique\u001b[0;34m(enumeration)\u001b[0m\n\u001b[1;32m   1572\u001b[0m \u001b[38;5;28;01mif\u001b[39;00m duplicates:\n\u001b[1;32m   1573\u001b[0m     alias_details \u001b[38;5;241m=\u001b[39m \u001b[38;5;124m'\u001b[39m\u001b[38;5;124m, \u001b[39m\u001b[38;5;124m'\u001b[39m\u001b[38;5;241m.\u001b[39mjoin(\n\u001b[1;32m   1574\u001b[0m             [\u001b[38;5;124m\"\u001b[39m\u001b[38;5;132;01m%s\u001b[39;00m\u001b[38;5;124m -> \u001b[39m\u001b[38;5;132;01m%s\u001b[39;00m\u001b[38;5;124m\"\u001b[39m \u001b[38;5;241m%\u001b[39m (alias, name) \u001b[38;5;28;01mfor\u001b[39;00m (alias, name) \u001b[38;5;129;01min\u001b[39;00m duplicates])\n\u001b[0;32m-> 1575\u001b[0m     \u001b[38;5;28;01mraise\u001b[39;00m \u001b[38;5;167;01mValueError\u001b[39;00m(\u001b[38;5;124m'\u001b[39m\u001b[38;5;124mduplicate values found in \u001b[39m\u001b[38;5;132;01m%r\u001b[39;00m\u001b[38;5;124m: \u001b[39m\u001b[38;5;132;01m%s\u001b[39;00m\u001b[38;5;124m'\u001b[39m \u001b[38;5;241m%\u001b[39m\n\u001b[1;32m   1576\u001b[0m             (enumeration, alias_details))\n\u001b[1;32m   1577\u001b[0m \u001b[38;5;28;01mreturn\u001b[39;00m enumeration\n",
      "\u001b[0;31mValueError\u001b[0m: duplicate values found in <enum 'UpdatedDropRarities'>: Exotic -> Legendary"
     ]
    }
   ],
   "source": [
    "from enum import unique\n",
    "\n",
    "@unique\n",
    "class UpdatedDropRarities(Enum):\n",
    "    Common = 450\n",
    "    Uncommon = 600\n",
    "    Rare = 750\n",
    "    Epic = 875\n",
    "    Legendary = 945\n",
    "    Exalted = 990\n",
    "    Awakened = 999\n",
    "    Exotic = 945"
   ]
  },
  {
   "cell_type": "markdown",
   "id": "909aefc0",
   "metadata": {},
   "source": [
    "As you see, when we make an Exotic rarity that happened to have the same cutoff value as our Legendary rarity, it printed out the error and told is exactly which variables in our enum had the same values. This lets us easily go back and figure out which one we need to change."
   ]
  },
  {
   "cell_type": "code",
   "execution_count": 4,
   "id": "c86040c4",
   "metadata": {},
   "outputs": [],
   "source": [
    "@unique\n",
    "class UpdatedDropRarities(Enum):\n",
    "    Common = 450\n",
    "    Uncommon = 600\n",
    "    Rare = 750\n",
    "    Epic = 875\n",
    "    Legendary = 945\n",
    "    Exalted = 990\n",
    "    Awakened = 999\n",
    "    Exotic = 970"
   ]
  },
  {
   "cell_type": "markdown",
   "id": "d1d30ddb",
   "metadata": {},
   "source": [
    "No issues at all!"
   ]
  },
  {
   "cell_type": "markdown",
   "id": "5c0f528c",
   "metadata": {},
   "source": [
    "### What can we do with enum?"
   ]
  },
  {
   "cell_type": "markdown",
   "id": "c5815224",
   "metadata": {},
   "source": [
    "For our use case, enum makes it easier to define rarities and weapon drops. With the first enum being made as a class, we were able to assign rarities with custom numbers, which we can use later on with a random number generator to help determine the rarity of a gear piece. With the second enum being made as a function, we were able to make a list of different weapon types that could drop, where each one has its own value assigned from 1 - 7, and we can use another random number generator to determine that type of weapon drop as well.\n",
    "\n",
    "You could argue that we could use multiple lists to store our variables and corresponding values, but with enum, we can easily set up it so that if we ever decide to add a new rarity or weapon, we just have to go back to where we declared the enum and add it on wherever we desire.\n",
    "\n",
    "Before we can move on, we have to figure out how to access our variables and the values assigned to them."
   ]
  },
  {
   "cell_type": "markdown",
   "id": "9269191d",
   "metadata": {},
   "source": [
    "##### Example of Different ways to access our variables"
   ]
  },
  {
   "cell_type": "markdown",
   "id": "af6c7a08",
   "metadata": {},
   "source": [
    "To access a specific rarity or value, we can do the following:"
   ]
  },
  {
   "cell_type": "code",
   "execution_count": 5,
   "id": "15aadb3c",
   "metadata": {},
   "outputs": [
    {
     "name": "stdout",
     "output_type": "stream",
     "text": [
      "Common\n",
      "450\n"
     ]
    }
   ],
   "source": [
    "print(DropRarities['Common'].name)\n",
    "print(DropRarities['Common'].value)"
   ]
  },
  {
   "cell_type": "code",
   "execution_count": 6,
   "id": "4ef403c7",
   "metadata": {},
   "outputs": [
    {
     "name": "stdout",
     "output_type": "stream",
     "text": [
      "Sniper\n",
      "5\n"
     ]
    }
   ],
   "source": [
    "print(Gear['Sniper'].name)\n",
    "print(Gear['Sniper'].value)"
   ]
  },
  {
   "cell_type": "markdown",
   "id": "54dc902c",
   "metadata": {},
   "source": [
    "To make it easier to check or access our all of our DropRarities, we can use a for loop."
   ]
  },
  {
   "cell_type": "code",
   "execution_count": 7,
   "id": "5088411c",
   "metadata": {
    "scrolled": true
   },
   "outputs": [
    {
     "name": "stdout",
     "output_type": "stream",
     "text": [
      "List of rarities and their cutoff value:\n",
      "Drops that are of Common rarity have a max value of 450\n",
      "Drops that are of Uncommon rarity have a max value of 600\n",
      "Drops that are of Rare rarity have a max value of 750\n",
      "Drops that are of Epic rarity have a max value of 875\n",
      "Drops that are of Legendary rarity have a max value of 945\n",
      "Drops that are of Exalted rarity have a max value of 990\n",
      "Drops that are of Awakened rarity have a max value of 999\n"
     ]
    }
   ],
   "source": [
    "print(\"List of rarities and their cutoff value:\")\n",
    "for rarity in DropRarities:\n",
    "    print(\"Drops that are of\" , rarity.name, \"rarity have a max value of\", rarity.value)"
   ]
  },
  {
   "cell_type": "code",
   "execution_count": 8,
   "id": "f446de98",
   "metadata": {},
   "outputs": [
    {
     "name": "stdout",
     "output_type": "stream",
     "text": [
      "List of weapons and their value:\n",
      "Drops that are of Pistol class have a value of 1\n",
      "Drops that are of Shotgun class have a value of 2\n",
      "Drops that are of SMG class have a value of 3\n",
      "Drops that are of Rifle class have a value of 4\n",
      "Drops that are of Sniper class have a value of 5\n",
      "Drops that are of Grenade_Launcher class have a value of 6\n",
      "Drops that are of Rocket_Launcher class have a value of 7\n"
     ]
    }
   ],
   "source": [
    "print(\"List of weapons and their value:\")\n",
    "for weapon in Gear:\n",
    "    print(\"Drops that are of\" , weapon.name, \"class have a value of\", weapon.value)"
   ]
  },
  {
   "cell_type": "markdown",
   "id": "10a60bff",
   "metadata": {},
   "source": [
    "We could also print them out as a list if we wanted to, although it wouldn't look pretty"
   ]
  },
  {
   "cell_type": "code",
   "execution_count": 9,
   "id": "2b11d540",
   "metadata": {},
   "outputs": [
    {
     "name": "stdout",
     "output_type": "stream",
     "text": [
      "[<DropRarities.Common: 450>, <DropRarities.Uncommon: 600>, <DropRarities.Rare: 750>, <DropRarities.Epic: 875>, <DropRarities.Legendary: 945>, <DropRarities.Exalted: 990>, <DropRarities.Awakened: 999>]\n"
     ]
    }
   ],
   "source": [
    "print(list(DropRarities))"
   ]
  },
  {
   "cell_type": "code",
   "execution_count": 10,
   "id": "a115324b",
   "metadata": {
    "scrolled": true
   },
   "outputs": [
    {
     "name": "stdout",
     "output_type": "stream",
     "text": [
      "[<Gear.Pistol: 1>, <Gear.Shotgun: 2>, <Gear.SMG: 3>, <Gear.Rifle: 4>, <Gear.Sniper: 5>, <Gear.Grenade_Launcher: 6>, <Gear.Rocket_Launcher: 7>]\n"
     ]
    }
   ],
   "source": [
    "print(list(Gear))"
   ]
  },
  {
   "cell_type": "markdown",
   "id": "bdc1bd5c",
   "metadata": {},
   "source": [
    "### Basic implementation of a drop system"
   ]
  },
  {
   "cell_type": "markdown",
   "id": "6c95bfda",
   "metadata": {},
   "source": [
    "Now that we know how to access different variables and their values associated, we can start to code the basics of how a drop system could work."
   ]
  },
  {
   "cell_type": "markdown",
   "id": "ea8b7612",
   "metadata": {},
   "source": [
    "##### For this example, we will randomly drop the player 3 weapons for the starting tutorial. Ideally, it would be 1 close range weapon, 1 long range weapon, and 1 explosive weapon, but we will show both fully random drops and curated drops"
   ]
  },
  {
   "cell_type": "markdown",
   "id": "8a61dde2",
   "metadata": {},
   "source": [
    "First, we need to import random so that we will be able to randomly generate our rarity and weapon values."
   ]
  },
  {
   "cell_type": "code",
   "execution_count": 11,
   "id": "38d14327",
   "metadata": {},
   "outputs": [],
   "source": [
    "import random"
   ]
  },
  {
   "cell_type": "markdown",
   "id": "6f4544c4",
   "metadata": {},
   "source": [
    "Next, lets make a function to return the rarity of the weapon and type of gun"
   ]
  },
  {
   "cell_type": "code",
   "execution_count": 12,
   "id": "e6bf8ff3",
   "metadata": {},
   "outputs": [],
   "source": [
    "def determineRarity(rarityValue):\n",
    "    for rarity in DropRarities:\n",
    "        if randomRarity < rarity.value:\n",
    "            return rarity.name\n",
    "        \n",
    "def determineGun(weaponValue):\n",
    "    for weapon in Gear:\n",
    "        if weaponValue == weapon.value:\n",
    "            return weapon.name"
   ]
  },
  {
   "cell_type": "markdown",
   "id": "a8f2f949",
   "metadata": {},
   "source": [
    "Now lets drop our player 3 random weapons of any rarity"
   ]
  },
  {
   "cell_type": "code",
   "execution_count": 13,
   "id": "8ff647e1",
   "metadata": {},
   "outputs": [
    {
     "name": "stdout",
     "output_type": "stream",
     "text": [
      "You have recieved a Epic Shotgun\n",
      "You have recieved a Rare SMG\n",
      "You have recieved a Rare SMG\n"
     ]
    }
   ],
   "source": [
    "for drop in range(3):\n",
    "    randomRarity = random.randint(0, 999)\n",
    "    randomGun = random.randint(1, 7)\n",
    "    \n",
    "    dropRarity = determineRarity(randomRarity)\n",
    "    dropGun = determineGun(randomGun)\n",
    "    \n",
    "    print(\"You have recieved a\", dropRarity, dropGun)"
   ]
  },
  {
   "cell_type": "markdown",
   "id": "c4fc9cae",
   "metadata": {},
   "source": [
    "Now lets drop our player 3 curated weapons - one close range, one long range, and one explosive weapon that have a max rarity of uncommon"
   ]
  },
  {
   "cell_type": "code",
   "execution_count": 14,
   "id": "dab6204b",
   "metadata": {},
   "outputs": [
    {
     "name": "stdout",
     "output_type": "stream",
     "text": [
      "You have recieved a Uncommon Shotgun\n",
      "You have recieved a Common Rifle\n",
      "You have recieved a Common Grenade_Launcher\n"
     ]
    }
   ],
   "source": [
    "closeGun = determineGun(random.randint(1, 3))\n",
    "longGun = determineGun(random.randint(4, 5))\n",
    "explodeGun = determineGun(random.randint(6, 7))\n",
    "curatedRarities = []\n",
    "for drop in range(3):\n",
    "    randomRarity = random.randint(0, 600)\n",
    "    \n",
    "    curatedRarities.append(determineRarity(randomRarity))\n",
    "    \n",
    "print(\"You have recieved a\", curatedRarities[0], closeGun)\n",
    "print(\"You have recieved a\", curatedRarities[1], longGun)\n",
    "print(\"You have recieved a\", curatedRarities[2], explodeGun)"
   ]
  },
  {
   "cell_type": "markdown",
   "id": "e7f66261",
   "metadata": {},
   "source": [
    "Utilizing our enums and the random integers we generated, we were able to compare and return the proper weapons and their rarities for the game to drop the proper weapons."
   ]
  },
  {
   "cell_type": "markdown",
   "id": "bf7aa5b4",
   "metadata": {},
   "source": [
    "### Wrap-Up"
   ]
  },
  {
   "cell_type": "markdown",
   "id": "a7893301",
   "metadata": {},
   "source": [
    "As you all can see, enum can be really useful to setup how our drops would work. We can make enums to store our rarities and weapons and easily return in the future to add more weapon or rarity types and assign them values. There isn't a need to worry about enum's getting to long since we are able to use the auto function to make sure we are incrementing our values properly. We can also use unique to make sure when we don't use auto, we aren't accidently assigning the same value to two different variables. We are able to access these variables in many different ways as well, so we can use any way we want depending on the use case. We were able to use enum and compare them with integers just like normal we would with normal variables to drop our players random weapons and rarities as well as curated weapons."
   ]
  }
 ],
 "metadata": {
  "kernelspec": {
   "display_name": "Python 3 (ipykernel)",
   "language": "python",
   "name": "python3"
  },
  "language_info": {
   "codemirror_mode": {
    "name": "ipython",
    "version": 3
   },
   "file_extension": ".py",
   "mimetype": "text/x-python",
   "name": "python",
   "nbconvert_exporter": "python",
   "pygments_lexer": "ipython3",
   "version": "3.11.4"
  }
 },
 "nbformat": 4,
 "nbformat_minor": 5
}
